{
  "nbformat": 4,
  "nbformat_minor": 0,
  "metadata": {
    "colab": {
      "provenance": [],
      "authorship_tag": "ABX9TyPdk5lhjhbaIWrSjhyv73En",
      "include_colab_link": true
    },
    "kernelspec": {
      "name": "python3",
      "display_name": "Python 3"
    },
    "language_info": {
      "name": "python"
    }
  },
  "cells": [
    {
      "cell_type": "markdown",
      "metadata": {
        "id": "view-in-github",
        "colab_type": "text"
      },
      "source": [
        "<a href=\"https://colab.research.google.com/github/ac2393921/nlp100/blob/main/chapter01.ipynb\" target=\"_parent\"><img src=\"https://colab.research.google.com/assets/colab-badge.svg\" alt=\"Open In Colab\"/></a>"
      ]
    },
    {
      "cell_type": "markdown",
      "source": [
        "# 第1章: 準備運動"
      ],
      "metadata": {
        "id": "DZ4n36VLM__H"
      }
    },
    {
      "cell_type": "markdown",
      "source": [
        "## 00. 文字列の逆順"
      ],
      "metadata": {
        "id": "bUhLf5T8NABq"
      }
    },
    {
      "cell_type": "code",
      "source": [
        "s = \"stressed\"\n",
        "ans = s[::-1]\n",
        "print(ans)"
      ],
      "metadata": {
        "colab": {
          "base_uri": "https://localhost:8080/"
        },
        "id": "kSGI0N6BNFxo",
        "outputId": "639d3299-125d-4611-d13a-cd324ca2d74b"
      },
      "execution_count": null,
      "outputs": [
        {
          "output_type": "stream",
          "name": "stdout",
          "text": [
            "desserts\n"
          ]
        }
      ]
    },
    {
      "cell_type": "markdown",
      "source": [
        "## 01. 「パタトクカシーー」"
      ],
      "metadata": {
        "id": "AzboYxIsNAFg"
      }
    },
    {
      "cell_type": "code",
      "source": [
        "s = \"パタトクカシーー\"\n",
        "ans = s[0] + s[2] + s[4] + s[6]\n",
        "print(ans)"
      ],
      "metadata": {
        "colab": {
          "base_uri": "https://localhost:8080/"
        },
        "id": "UWXBg0VdNPbH",
        "outputId": "a3faae8f-c0e9-4e1e-ca00-3f0f5c7a22b6"
      },
      "execution_count": null,
      "outputs": [
        {
          "output_type": "stream",
          "name": "stdout",
          "text": [
            "パトカー\n"
          ]
        }
      ]
    },
    {
      "cell_type": "markdown",
      "source": [
        "## 02. 「パトカー」＋「タクシー」＝「パタトクカシーー」"
      ],
      "metadata": {
        "id": "H0edrwLGNd1W"
      }
    },
    {
      "cell_type": "code",
      "source": [
        "s1 = \"パトカー\"\n",
        "s2 = \"タクシー\"\n",
        "ans = \"\"\n",
        "for si, sj in zip(s1, s2):\n",
        "  ans += si + sj\n",
        "print(ans)"
      ],
      "metadata": {
        "colab": {
          "base_uri": "https://localhost:8080/"
        },
        "id": "PmC8dFAjNPpK",
        "outputId": "38fbe032-a560-4226-e930-40d76c0a2abc"
      },
      "execution_count": null,
      "outputs": [
        {
          "output_type": "stream",
          "name": "stdout",
          "text": [
            "パタトクカシーー\n"
          ]
        }
      ]
    },
    {
      "cell_type": "markdown",
      "source": [
        "## 03. 円周率"
      ],
      "metadata": {
        "id": "ZNebdF6ONeXp"
      }
    },
    {
      "cell_type": "code",
      "source": [
        "import re\n",
        "s = \"Now I need a drink, alcoholic of course, after the heavy lectures involving quantum mechanics.\"\n",
        "s = re.sub('[,\\.]', '', s)\n",
        "sl = s.split(\" \")\n",
        "ans = []\n",
        "for i in sl:\n",
        "  ans.append(len(i))\n",
        "print(ans)"
      ],
      "metadata": {
        "colab": {
          "base_uri": "https://localhost:8080/"
        },
        "id": "Ex9OXSFANPs5",
        "outputId": "e5557536-4659-46ff-d4b0-7e70ba2d1d5e"
      },
      "execution_count": null,
      "outputs": [
        {
          "output_type": "stream",
          "name": "stdout",
          "text": [
            "[3, 1, 4, 1, 5, 9, 2, 6, 5, 3, 5, 8, 9, 7, 9]\n"
          ]
        }
      ]
    },
    {
      "cell_type": "markdown",
      "source": [
        "## 04. 元素記号Permalink"
      ],
      "metadata": {
        "id": "l3SU5MV9FAX-"
      }
    },
    {
      "cell_type": "code",
      "source": [
        "import re\n",
        "from collections import defaultdict\n",
        "s = \"Hi He Lied Because Boron Could Not Oxidize Fluorine. New Nations Might Also Sign Peace Security Clause. Arthur King Can.\"\n",
        "s = re.sub('[,\\.]', '', s)\n",
        "sl = s.split(\" \")\n",
        "l = [1, 5, 6, 7, 8, 9, 15, 16, 19]\n",
        "d = defaultdict(int)\n",
        "for i in range(len(sl)):\n",
        "  if i+1 in l:\n",
        "    d[sl[i][:1]] = i+1\n",
        "  else:\n",
        "    d[sl[i][:2]] = i+1\n",
        "print(d)"
      ],
      "metadata": {
        "id": "85bAK-jfPwmo",
        "colab": {
          "base_uri": "https://localhost:8080/"
        },
        "outputId": "16aae685-418b-48fa-a901-3cdf0af68446"
      },
      "execution_count": 1,
      "outputs": [
        {
          "output_type": "stream",
          "name": "stdout",
          "text": [
            "defaultdict(<class 'int'>, {'H': 1, 'He': 2, 'Li': 3, 'Be': 4, 'B': 5, 'C': 6, 'N': 7, 'O': 8, 'F': 9, 'Ne': 10, 'Na': 11, 'Mi': 12, 'Al': 13, 'Si': 14, 'P': 15, 'S': 16, 'Cl': 17, 'Ar': 18, 'K': 19, 'Ca': 20})\n"
          ]
        }
      ]
    },
    {
      "cell_type": "code",
      "source": [],
      "metadata": {
        "id": "t9VOGx0qIT2r"
      },
      "execution_count": null,
      "outputs": []
    }
  ]
}